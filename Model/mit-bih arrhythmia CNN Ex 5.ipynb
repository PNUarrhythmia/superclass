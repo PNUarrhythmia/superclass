{
 "cells": [
  {
   "cell_type": "markdown",
   "metadata": {},
   "source": [
    "### 모듈, 라이브러리"
   ]
  },
  {
   "cell_type": "code",
   "execution_count": 1,
   "metadata": {},
   "outputs": [],
   "source": [
    "import numpy as np\n",
    "import pandas as pd\n",
    "import tensorflow as tf\n",
    "from sklearn.model_selection import train_test_split\n",
    "from sklearn.preprocessing import normalize\n",
    "from sklearn.metrics import confusion_matrix\n",
    "from keras.utils.np_utils import to_categorical\n",
    "import numpy as np\n",
    "import matplotlib.pyplot as plt\n",
    "import os\n",
    "import csv\n",
    "import itertools\n",
    "import collections\n",
    "from IPython.display import display\n",
    "%matplotlib inline"
   ]
  },
  {
   "cell_type": "markdown",
   "metadata": {},
   "source": [
    "#### Default Graph 설정"
   ]
  },
  {
   "cell_type": "code",
   "execution_count": 2,
   "metadata": {},
   "outputs": [],
   "source": [
    "plt.rcParams[\"figure.figsize\"] = (30, 6)\n",
    "plt.rcParams['lines.linewidth'] = 1\n",
    "plt.rcParams['lines.color'] = 'b'\n",
    "plt.rcParams['axes.grid'] = True"
   ]
  },
  {
   "cell_type": "markdown",
   "metadata": {},
   "source": [
    "#### Train, Test, 평가, Confusion Matrix 함수 구성"
   ]
  },
  {
   "cell_type": "code",
   "execution_count": 3,
   "metadata": {},
   "outputs": [],
   "source": [
    "def get_train_inputs() :\n",
    "    x = tf.constant(X_train)\n",
    "    y = tf.constant(y_train)\n",
    "    return x, y\n",
    "\n",
    "def get_test_inputs() :\n",
    "    x = tf.constant(X_test)\n",
    "    y = tf.constant(y_test)\n",
    "    return x, y\n",
    "\n",
    "def get_evel_data() :\n",
    "    return tf.constant(X_test)\n",
    "\n",
    "def plot_confusion_matrix(cm, classes, normalize = False, title = 'Confusion matrix', cmap = plt.cm.Blues) :\n",
    "    \n",
    "    if normalize : \n",
    "        cm = cm.astype('float') / cm.sum(axis = 1)[:, np.newaxis]\n",
    "        print(\"Normalized confusion matrix\")\n",
    "    else :\n",
    "        print(\"Confusion matrix, without normalization\")\n",
    "        \n",
    "    plt.figure()\n",
    "    plt.imshow(cm, interpolation = 'nearest', cmap = cmap)\n",
    "    plt.title(title)\n",
    "    plt.colorbar()\n",
    "    tick_marks = np.arange(len(classes))\n",
    "    plt.xticks(tick_marks, classes, rotation = 45)\n",
    "    plt.yticks(tick_marks, classes)\n",
    "    \n",
    "    fmt = '.2f' if normalize else 'd'\n",
    "    thresh = cm.max() / 2.\n",
    "    for i, j in itertools.product(range(cm.shape[0]), range(cm.shape[1])) :\n",
    "        plt.text(j, i, format(cm[i, j], fmt), horizontalalignment = 'center', color = 'white' if cm[i, j] > thresh else 'black')\n",
    "        plt.tight_layout()\n",
    "        plt.ylabel('True label')\n",
    "        plt.xlabel('Predicted label')\n",
    "        plt.show()\n",
    "            "
   ]
  },
  {
   "cell_type": "markdown",
   "metadata": {},
   "source": [
    "### SuperClass\n",
    "* N(Normal) : N L R\n",
    "\n",
    "* SVEB(SupraVentricular Ectopic Beat) : A a J S e j\n",
    "\n",
    "* VEB(Ventricular Ectopic Beat) : V E\n",
    "\n",
    "* F(Fusion beat) : F\n",
    "\n",
    "* Q(Unknown Beat) : P / f u"
   ]
  },
  {
   "cell_type": "code",
   "execution_count": 4,
   "metadata": {},
   "outputs": [
    {
     "name": "stdout",
     "output_type": "stream",
     "text": [
      "./input/mitbih_database\\100.csv\n",
      "./input/mitbih_database\\100annotations.txt\n",
      "./input/mitbih_database\\101.csv\n",
      "./input/mitbih_database\\101annotations.txt\n",
      "./input/mitbih_database\\102.csv\n",
      "./input/mitbih_database\\102annotations.txt\n",
      "./input/mitbih_database\\103.csv\n",
      "./input/mitbih_database\\103annotations.txt\n",
      "./input/mitbih_database\\104.csv\n",
      "./input/mitbih_database\\104annotations.txt\n",
      "./input/mitbih_database\\105.csv\n",
      "./input/mitbih_database\\105annotations.txt\n",
      "./input/mitbih_database\\106.csv\n",
      "./input/mitbih_database\\106annotations.txt\n",
      "./input/mitbih_database\\107.csv\n",
      "./input/mitbih_database\\107annotations.txt\n",
      "./input/mitbih_database\\108.csv\n",
      "./input/mitbih_database\\108annotations.txt\n",
      "./input/mitbih_database\\109.csv\n",
      "./input/mitbih_database\\109annotations.txt\n",
      "./input/mitbih_database\\111.csv\n",
      "./input/mitbih_database\\111annotations.txt\n",
      "./input/mitbih_database\\112.csv\n",
      "./input/mitbih_database\\112annotations.txt\n",
      "./input/mitbih_database\\113.csv\n",
      "./input/mitbih_database\\113annotations.txt\n",
      "./input/mitbih_database\\114.csv\n",
      "./input/mitbih_database\\114annotations.txt\n",
      "./input/mitbih_database\\115.csv\n",
      "./input/mitbih_database\\115annotations.txt\n",
      "./input/mitbih_database\\116.csv\n",
      "./input/mitbih_database\\116annotations.txt\n",
      "./input/mitbih_database\\117.csv\n",
      "./input/mitbih_database\\117annotations.txt\n",
      "./input/mitbih_database\\118.csv\n",
      "./input/mitbih_database\\118annotations.txt\n",
      "./input/mitbih_database\\119.csv\n",
      "./input/mitbih_database\\119annotations.txt\n",
      "./input/mitbih_database\\121.csv\n",
      "./input/mitbih_database\\121annotations.txt\n",
      "./input/mitbih_database\\122.csv\n",
      "./input/mitbih_database\\122annotations.txt\n",
      "./input/mitbih_database\\123.csv\n",
      "./input/mitbih_database\\123annotations.txt\n",
      "./input/mitbih_database\\124.csv\n",
      "./input/mitbih_database\\124annotations.txt\n",
      "./input/mitbih_database\\200.csv\n",
      "./input/mitbih_database\\200annotations.txt\n",
      "./input/mitbih_database\\201.csv\n",
      "./input/mitbih_database\\201annotations.txt\n",
      "./input/mitbih_database\\202.csv\n",
      "./input/mitbih_database\\202annotations.txt\n",
      "./input/mitbih_database\\203.csv\n",
      "./input/mitbih_database\\203annotations.txt\n",
      "./input/mitbih_database\\205.csv\n",
      "./input/mitbih_database\\205annotations.txt\n",
      "./input/mitbih_database\\207.csv\n",
      "./input/mitbih_database\\207annotations.txt\n",
      "./input/mitbih_database\\208.csv\n",
      "./input/mitbih_database\\208annotations.txt\n",
      "./input/mitbih_database\\209.csv\n",
      "./input/mitbih_database\\209annotations.txt\n",
      "./input/mitbih_database\\210.csv\n",
      "./input/mitbih_database\\210annotations.txt\n",
      "./input/mitbih_database\\212.csv\n",
      "./input/mitbih_database\\212annotations.txt\n",
      "./input/mitbih_database\\213.csv\n",
      "./input/mitbih_database\\213annotations.txt\n",
      "./input/mitbih_database\\214.csv\n",
      "./input/mitbih_database\\214annotations.txt\n",
      "./input/mitbih_database\\215.csv\n",
      "./input/mitbih_database\\215annotations.txt\n",
      "./input/mitbih_database\\217.csv\n",
      "./input/mitbih_database\\217annotations.txt\n",
      "./input/mitbih_database\\219.csv\n",
      "./input/mitbih_database\\219annotations.txt\n",
      "./input/mitbih_database\\220.csv\n",
      "./input/mitbih_database\\220annotations.txt\n",
      "./input/mitbih_database\\221.csv\n",
      "./input/mitbih_database\\221annotations.txt\n",
      "./input/mitbih_database\\222.csv\n",
      "./input/mitbih_database\\222annotations.txt\n",
      "./input/mitbih_database\\223.csv\n",
      "./input/mitbih_database\\223annotations.txt\n",
      "./input/mitbih_database\\228.csv\n",
      "./input/mitbih_database\\228annotations.txt\n",
      "./input/mitbih_database\\230.csv\n",
      "./input/mitbih_database\\230annotations.txt\n",
      "./input/mitbih_database\\231.csv\n",
      "./input/mitbih_database\\231annotations.txt\n",
      "./input/mitbih_database\\232.csv\n",
      "./input/mitbih_database\\232annotations.txt\n",
      "./input/mitbih_database\\233.csv\n",
      "./input/mitbih_database\\233annotations.txt\n",
      "./input/mitbih_database\\234.csv\n",
      "./input/mitbih_database\\234annotations.txt\n"
     ]
    }
   ],
   "source": [
    "for dirname, _, filenames in os.walk('./input/') :\n",
    "    for filename in filenames :\n",
    "        print(os.path.join(dirname, filename))"
   ]
  },
  {
   "cell_type": "code",
   "execution_count": 5,
   "metadata": {},
   "outputs": [
    {
     "name": "stdout",
     "output_type": "stream",
     "text": [
      "['N', 'L', 'R', 'A', 'a', 'J', 'S', 'e', 'j', 'V', 'E', 'F', 'P', '/', 'f', 'u']\n",
      "16\n",
      "[0, 0, 0, 0, 0, 0, 0, 0, 0, 0, 0, 0, 0, 0, 0, 0]\n"
     ]
    }
   ],
   "source": [
    "path = './input/mitbih_database/'\n",
    "window_size = 160 # 160에서 변경\n",
    "maximum_counting = 100000 # 10000에서 수정. 너무 큰 값이라 undersampling 한 듯.\n",
    "\n",
    "class_N = ['N', 'L', 'R']\n",
    "class_SVEB = ['A', 'a', 'J', 'S', 'e', 'j']\n",
    "class_VEB = ['V', 'E']\n",
    "class_F = ['F']\n",
    "class_Q = ['P', '/', 'f', 'u']\n",
    "\n",
    "classes = class_N + class_SVEB + class_VEB + class_F + class_Q\n",
    "\n",
    "n_classes = len(classes) # class 개수\n",
    "count_classes = [0]*n_classes # 각 class 별 개수를 list 로\n",
    "\n",
    "X = list()\n",
    "y = list()\n",
    "print(classes)\n",
    "print(n_classes)\n",
    "print(count_classes)"
   ]
  },
  {
   "cell_type": "code",
   "execution_count": 6,
   "metadata": {},
   "outputs": [],
   "source": [
    "# Read files\n",
    "filenames = next(os.walk(path))[2]\n",
    "\n",
    "# Split and save .csv , .txt \n",
    "records = []\n",
    "annotations = []\n",
    "filenames.sort()"
   ]
  },
  {
   "cell_type": "code",
   "execution_count": 7,
   "metadata": {},
   "outputs": [],
   "source": [
    "for f in filenames :\n",
    "    filename, file_extension = os.path.splitext(f)\n",
    "    \n",
    "    # *.csv\n",
    "    if(file_extension == '.csv') :\n",
    "        records.append(path + filename + file_extension)\n",
    "        \n",
    "    # *.txt\n",
    "    else :\n",
    "        annotations.append(path + filename + file_extension)"
   ]
  },
  {
   "cell_type": "code",
   "execution_count": 8,
   "metadata": {},
   "outputs": [
    {
     "data": {
      "image/png": "[encoded data removed]",
      "text/plain": [
       "<Figure size 2160x432 with 1 Axes>"
      ]
     },
     "metadata": {
      "needs_background": "light"
     },
     "output_type": "display_data"
    }
   ],
   "source": [
    "# Records\n",
    "for r in range(0,len(records)):\n",
    "# for r in range(2, 3):\n",
    "    signals = []\n",
    "\n",
    "    with open(records[r], 'rt') as csvfile:\n",
    "        spamreader = csv.reader(csvfile, delimiter=',', quotechar='|') # read CSV file\\\n",
    "        row_index = -1\n",
    "        for row in spamreader:\n",
    "            if(row_index >= 0):\n",
    "                signals.insert(row_index, int(row[1]))\n",
    "            row_index += 1\n",
    "            \n",
    "    if r == 1:\n",
    "        # Plot each patient's signal\n",
    "        plt.title(records[1] + \" Wave\")\n",
    "        plt.plot(signals)\n",
    "        plt.show()\n",
    "\n",
    "    # Read anotations: R position and Arrhythmia class\n",
    "    with open(annotations[r], 'r') as fileID:\n",
    "        data = fileID.readlines() \n",
    "        beat = list()\n",
    "\n",
    "        for d in range(1, len(data)): # 0 index is Chart Head\n",
    "            splitted = data[d].split(' ')\n",
    "            splitted = filter(None, splitted)\n",
    "            next(splitted) # Time... Clipping\n",
    "            pos = int(next(splitted)) # Sample ID\n",
    "            arrhythmia_type = next(splitted) # Type\n",
    "            if(arrhythmia_type in classes): # \n",
    "                arrhythmia_index = classes.index(arrhythmia_type)\n",
    "                if count_classes[arrhythmia_index] > maximum_counting: # avoid overfitting\n",
    "                    pass\n",
    "                else:\n",
    "                    count_classes[arrhythmia_index] += 1\n",
    "                    if(window_size < pos and pos < (len(signals) - window_size)):\n",
    "                        beat = signals[pos-window_size+1:pos+window_size]\n",
    "                        X.append(beat)\n",
    "                        y.append(arrhythmia_index)"
   ]
  },
  {
   "cell_type": "code",
   "execution_count": 9,
   "metadata": {},
   "outputs": [
    {
     "name": "stdout",
     "output_type": "stream",
     "text": [
      "(109408, 320)\n"
     ]
    }
   ],
   "source": [
    "for i in range(0,len(X)):\n",
    "        X[i].append(y[i])\n",
    "\n",
    "print(np.shape(X))"
   ]
  },
  {
   "cell_type": "markdown",
   "metadata": {},
   "source": [
    "##### Class 별 확인"
   ]
  },
  {
   "cell_type": "code",
   "execution_count": 10,
   "metadata": {
    "scrolled": true
   },
   "outputs": [
    {
     "name": "stdout",
     "output_type": "stream",
     "text": [
      "0     75014\n",
      "1      8071\n",
      "2      7255\n",
      "9      7129\n",
      "13     7023\n",
      "3      2546\n",
      "14      982\n",
      "11      802\n",
      "8       229\n",
      "4       150\n",
      "10      106\n",
      "5        83\n",
      "7        16\n",
      "6         2\n",
      "Name: 319, dtype: int64\n"
     ]
    }
   ],
   "source": [
    "# representation of classes % wise\n",
    "X_train_df = pd.DataFrame(X)\n",
    "per_class = X_train_df[X_train_df.shape[1]-1].value_counts()\n",
    "print(per_class)"
   ]
  },
  {
   "cell_type": "code",
   "execution_count": 11,
   "metadata": {},
   "outputs": [
    {
     "name": "stdout",
     "output_type": "stream",
     "text": [
      "[75052, 8075, 7259, 2546, 150, 83, 2, 16, 229, 7130, 106, 803, 0, 7028, 982, 0]\n"
     ]
    }
   ],
   "source": [
    "print(count_classes)"
   ]
  },
  {
   "cell_type": "code",
   "execution_count": 12,
   "metadata": {},
   "outputs": [
    {
     "data": {
      "image/png": "[encoded data removed]",
      "text/plain": [
       "<Figure size 1440x720 with 1 Axes>"
      ]
     },
     "metadata": {},
     "output_type": "display_data"
    }
   ],
   "source": [
    "plt.figure(figsize = (20, 10))\n",
    "my_circle=plt.Circle( (0,0), 0.7, color = 'white')\n",
    "plt.pie(count_classes, labels = classes, autopct='%1.1f%%')\n",
    "p = plt.gcf()\n",
    "p.gca().add_artist(my_circle)\n",
    "plt.show()"
   ]
  },
  {
   "cell_type": "markdown",
   "metadata": {},
   "source": [
    "##### SuperClass 별 확인"
   ]
  },
  {
   "cell_type": "code",
   "execution_count": 13,
   "metadata": {},
   "outputs": [],
   "source": [
    "count_superClasses = [0] * 5\n",
    "superClasses = ['N', 'SVEB', 'VEB', 'F', 'Q']"
   ]
  },
  {
   "cell_type": "code",
   "execution_count": 14,
   "metadata": {},
   "outputs": [],
   "source": [
    "class_N = ['N', 'L', 'R'] # 0 1 2\n",
    "count_superClasses[0] = count_classes[0] + count_classes[1] + count_classes[2]\n",
    "\n",
    "class_SVEB = ['A', 'a', 'J', 'S', 'e', 'j'] # 3 4 5 6 7 8\n",
    "count_superClasses[1] = count_classes[3] + count_classes[4] + count_classes[5] + count_classes[6] + count_classes[7] + count_classes[8] \n",
    "\n",
    "class_VEB = ['V', 'E'] # 9 10\n",
    "count_superClasses[2] = count_classes[9] + count_classes[10]\n",
    "\n",
    "class_F = ['F'] # 11\n",
    "count_superClasses[3] = count_classes[11]\n",
    "\n",
    "class_Q = ['P', '/', 'f', 'u'] # 12 13 14 15\n",
    "count_superClasses[4] = count_classes[12] + count_classes[13] + count_classes[14] + count_classes[15]"
   ]
  },
  {
   "cell_type": "code",
   "execution_count": 15,
   "metadata": {},
   "outputs": [
    {
     "name": "stdout",
     "output_type": "stream",
     "text": [
      "[90386, 3026, 7236, 803, 8010]\n",
      "109461\n",
      "5\n"
     ]
    }
   ],
   "source": [
    "print(count_superClasses)\n",
    "\n",
    "print(sum(count_superClasses))\n",
    "\n",
    "n_superClasses = len(superClasses)\n",
    "print(n_superClasses)"
   ]
  },
  {
   "cell_type": "code",
   "execution_count": 16,
   "metadata": {},
   "outputs": [
    {
     "data": {
      "image/png": "[encoded data removed]",
      "text/plain": [
       "<Figure size 1440x720 with 1 Axes>"
      ]
     },
     "metadata": {},
     "output_type": "display_data"
    }
   ],
   "source": [
    "plt.figure(figsize = (20, 10))\n",
    "my_circle=plt.Circle( (0,0), 0.7, color = 'white')\n",
    "plt.pie(count_superClasses, labels = superClasses, autopct='%1.1f%%')\n",
    "p = plt.gcf()\n",
    "p.gca().add_artist(my_circle)\n",
    "plt.show()"
   ]
  },
  {
   "cell_type": "code",
   "execution_count": 17,
   "metadata": {},
   "outputs": [
    {
     "name": "stdout",
     "output_type": "stream",
     "text": [
      "[10000, 3026, 7236, 803, 8010]\n"
     ]
    }
   ],
   "source": [
    "maximum_counting = 10000\n",
    "\n",
    "for i in range(n_superClasses) :\n",
    "    if(count_superClasses[i] > maximum_counting) :\n",
    "        count_superClasses[i] = maximum_counting\n",
    "        \n",
    "print(count_superClasses)        "
   ]
  },
  {
   "cell_type": "markdown",
   "metadata": {},
   "source": [
    "## Test Size 조정 8:2 , 7:3 둘 다 적용 후 더 나은 것!!!"
   ]
  },
  {
   "cell_type": "code",
   "execution_count": 18,
   "metadata": {},
   "outputs": [
    {
     "name": "stdout",
     "output_type": "stream",
     "text": [
      "X_train :  87526\n",
      "X_test :  21882\n"
     ]
    }
   ],
   "source": [
    "# Train Test Split\n",
    "train, test = train_test_split(X_train_df, test_size = 0.20) \n",
    "\n",
    "print(\"X_train : \", len(train))\n",
    "print(\"X_test : \", len(test))"
   ]
  },
  {
   "cell_type": "code",
   "execution_count": 19,
   "metadata": {},
   "outputs": [
    {
     "name": "stdout",
     "output_type": "stream",
     "text": [
      "(87526, 15) (21882, 15)\n"
     ]
    }
   ],
   "source": [
    "target_train = train[train.shape[1] - 1]\n",
    "target_test = test[test.shape[1] - 1]\n",
    "y_train = to_categorical(target_train)\n",
    "y_test = to_categorical(target_test)\n",
    "print(np.shape(y_train), np.shape(y_test))"
   ]
  },
  {
   "cell_type": "code",
   "execution_count": 22,
   "metadata": {},
   "outputs": [
    {
     "name": "stdout",
     "output_type": "stream",
     "text": [
      "(85630, 319, 1)\n"
     ]
    }
   ],
   "source": [
    "X_train = train.iloc[:,:train.shape[1]-1].values\n",
    "X_test = test.iloc[:,:test.shape[1]-1].values\n",
    "X_train = X_train.reshape(len(X_train), X_train.shape[1],1)\n",
    "X_test = X_test.reshape(len(X_test), X_test.shape[1],1)\n",
    "print(np.shape(X_train))"
   ]
  },
  {
   "cell_type": "code",
   "execution_count": 20,
   "metadata": {},
   "outputs": [
    {
     "name": "stdout",
     "output_type": "stream",
     "text": [
      "tf.Tensor(\n",
      "[[1. 0. 0. 0.]\n",
      " [0. 1. 0. 0.]\n",
      " [0. 0. 1. 0.]\n",
      " [0. 0. 0. 1.]], shape=(4, 4), dtype=float32)\n",
      "(4, 4)\n"
     ]
    }
   ],
   "source": [
    "a = tf.keras.utils.to_categorical([0, 1, 2, 3], num_classes = 4)\n",
    "a = tf.constant(a, shape = [4, 4])\n",
    "print(a)\n",
    "print(np.shape(a))"
   ]
  },
  {
   "cell_type": "code",
   "execution_count": 22,
   "metadata": {},
   "outputs": [],
   "source": [
    "# Network\n",
    "def network(X_train, y_train, X_test, y_test) :\n",
    "    im_shape = (X_train.shape[1], 1)\n",
    "    \n",
    "    inputs_cnn = Input(shape = (im_shape), name = 'inputs_cnn')\n",
    "    # convolutional layer 1\n",
    "    conv1_1 = Convolution1D(64, (6), activation = 'elu', input_shape = im_shape)(inputs_cnn)\n",
    "    conv1_1 = BatchNormalization()(conv1_1)\n",
    "    # pooling layer 1\n",
    "    pool1 = MaxPool1D(pool_size = (3), strides = (2), padding = \"same\")(conv1_1)\n",
    "    # convolutional layer 2\n",
    "    conv2_1 = Convolution1D(128, (3), activation = 'elu', input_shape = im_shape)(pool1)\n",
    "    conv2_1 = BatchNormalization()(conv2_1)\n",
    "    # convolutional layer 3\n",
    "    conv3_1 = Convolution1D(128, (3), activation = 'elu', input_shape = im_shape)(conv2_1)\n",
    "    conv3_1 = BatchNormalization()(conv3_1)\n",
    "    # pooling layer 2\n",
    "    pool2 = MaxPool1D(pool_size = (2), strides = (2), padding = 'same')(conv3_1)\n",
    "    # convolutional layer 4\n",
    "    conv4_1 = Convolution1D(256, (3), activation = 'elu', input_shape = im_shape)(pool2)\n",
    "    conv4_1 = BatchNormalization()(conv4_1)\n",
    "    # convolution layer 5\n",
    "    conv5_1 = Convolution1D(256, (3), activation = 'elu', input_shape = im_shape)(conv4_1)\n",
    "    conv5_1 = BatchNormalization()(conv5_1)\n",
    "    # pooling layer 3\n",
    "    pool3 = MaxPool1D(pool_size = (2), strides = (2), padding = \"same\")(conv5_1)\n",
    "    # flattened layer 1\n",
    "    flatten = Flatten()(pool3)\n",
    "    # dense layer\n",
    "    dense_end1 = Dense(1024, activation = 'elu')(flatten)\n",
    "    \n",
    "    main_output = Dense(6, activation = 'softmax', name = 'main_output')(dense_end1)\n",
    "    \n",
    "    model = Model(inputs = inputs_cnn, outputs = main_output)\n",
    "    model.compile(optimizer = 'adam', loss = 'categorical_crossentropy', metrics = ['accuracy'])\n",
    "    \n",
    "    callbacks = [EarlyStopping(monitor = 'val_loss', patience = 8), ModelCheckpoint(filepath = 'best_model.h5', monitor = 'val_loss', save_best_only = True)]\n",
    "    \n",
    "    history = model.fit(X_train, y_train, epochs = 5, callbacks = callbacks, batch_size = 32, validation_data = (X_test, y_test))\n",
    "    model.load_weights('best_model.h5')\n",
    "    return(model, history)\n",
    "    "
   ]
  },
  {
   "cell_type": "code",
   "execution_count": 23,
   "metadata": {},
   "outputs": [],
   "source": [
    "def evaluate_model(history, X_test, y_test, model) :\n",
    "    scores = model.evaluate((X_test), y_test, verbose = 0)\n",
    "    print(\"Accuracy : %.2f%%\" % (scores[1]*100))\n",
    "    \n",
    "    print(history)\n",
    "    fig1, ax_acc = plt.subplots()\n",
    "    plt.plot(history.history['accuracy'])\n",
    "    plt.plot(history.history['val_accuracy'])\n",
    "    plt.xlabel('Epoch')\n",
    "    plt.ylabel('Accuracy')\n",
    "    plt.title('Model - Accuracy')\n",
    "    plt.legend(['Training', 'Validation'], loc = 'lower right')\n",
    "    plt.show()\n",
    "    \n",
    "    fig2, ax_loss = plt.subplots()\n",
    "    plt.xlabel('Epoch')\n",
    "    plt.ylabel('Loss')\n",
    "    plt.title('Model - Loss')\n",
    "    plt.legend(['Training', 'Validation'], loc = 'upper right')\n",
    "    plt.plot(history.history['loss'])\n",
    "    plt.plot(history.history['val_loss'])\n",
    "    plt.show()\n",
    "    target_name = ['0', '1', '2', '3', '4', '5']\n",
    "    \n",
    "    y_true = []\n",
    "    for element in y_test :\n",
    "        y_true.append(np.argmax(element))\n",
    "    prediction_proba = model.predict(X_test)\n",
    "    prediction = np.argmax(prediction_proba, axis = 1)\n",
    "    cnf_matrix = confusion_matrix(y_true, prediction)  "
   ]
  },
  {
   "cell_type": "code",
   "execution_count": 24,
   "metadata": {},
   "outputs": [
    {
     "ename": "NameError",
     "evalue": "name 'X_train' is not defined",
     "output_type": "error",
     "traceback": [
      "\u001b[1;31m---------------------------------------------------------------------------\u001b[0m",
      "\u001b[1;31mNameError\u001b[0m                                 Traceback (most recent call last)",
      "\u001b[1;32m<ipython-input-24-b214f7366a40>\u001b[0m in \u001b[0;36m<module>\u001b[1;34m\u001b[0m\n\u001b[0;32m      5\u001b[0m \u001b[1;32mimport\u001b[0m \u001b[0mkeras\u001b[0m\u001b[1;33m\u001b[0m\u001b[1;33m\u001b[0m\u001b[0m\n\u001b[0;32m      6\u001b[0m \u001b[1;32mfrom\u001b[0m \u001b[0mkeras\u001b[0m\u001b[1;33m.\u001b[0m\u001b[0mcallbacks\u001b[0m \u001b[1;32mimport\u001b[0m \u001b[0mEarlyStopping\u001b[0m\u001b[1;33m,\u001b[0m \u001b[0mModelCheckpoint\u001b[0m\u001b[1;33m\u001b[0m\u001b[1;33m\u001b[0m\u001b[0m\n\u001b[1;32m----> 7\u001b[1;33m \u001b[0mmodel\u001b[0m\u001b[1;33m,\u001b[0m \u001b[0mhistory\u001b[0m \u001b[1;33m=\u001b[0m \u001b[0mnetwork\u001b[0m\u001b[1;33m(\u001b[0m\u001b[0mX_train\u001b[0m\u001b[1;33m,\u001b[0m \u001b[0my_train\u001b[0m\u001b[1;33m,\u001b[0m \u001b[0mX_test\u001b[0m\u001b[1;33m,\u001b[0m \u001b[0my_test\u001b[0m\u001b[1;33m)\u001b[0m\u001b[1;33m\u001b[0m\u001b[1;33m\u001b[0m\u001b[0m\n\u001b[0m",
      "\u001b[1;31mNameError\u001b[0m: name 'X_train' is not defined"
     ]
    }
   ],
   "source": [
    "from keras.layers import Dense, Convolution1D, MaxPool1D, Flatten, Dropout\n",
    "from keras.layers import Input\n",
    "from keras.models import Model\n",
    "from keras.layers.normalization import BatchNormalization\n",
    "import keras\n",
    "from keras.callbacks import EarlyStopping, ModelCheckpoint\n",
    "model, history = network(X_train, y_train, X_test, y_test)\n"
   ]
  },
  {
   "cell_type": "code",
   "execution_count": null,
   "metadata": {},
   "outputs": [],
   "source": [
    "evaluate_model(history, X_test, y_test, model)\n",
    "y_pred = model.predict(X_test)"
   ]
  },
  {
   "cell_type": "code",
   "execution_count": null,
   "metadata": {},
   "outputs": [],
   "source": [
    "import itertools\n",
    "def plot_confusion_matrix(cm, classes, normalize = False, title = 'Confusion matrix', cmap = plt.cm.Blues) :\n",
    "    if normalize :\n",
    "        cm = cm.astype('float') / cm.sum(axis = 1)[:, np.newaxis]\n",
    "        print(\"Normalized confusion matrix\")\n",
    "    else : \n",
    "        print('Confusion matrix, without normalization')\n",
    "    \n",
    "    plt.imshow(cm, interpolation = 'nearest', cmap = cmap)\n",
    "    plt.title(title)\n",
    "    plt.colorbar()\n",
    "    tick_marks = np.arange(len(classes))\n",
    "    plt.xticks(tick_marks, classes, rotation = 45)\n",
    "    plt.yticks(tick_marks, classes)\n",
    "    \n",
    "    fmt = '.2f' if normalize else 'd'\n",
    "    thresh = cm.max() / 2.\n",
    "    for i, j in itertools.product(range(cm.shape[0]), range(cm.shape[1])) :\n",
    "        plt.text(j, i, format(cm[i, j], fmt), horizontalalignment=\"center\", color=\"white\" if cm[i, j] > thresh else \"black\")\n",
    "        plt.tight_layout()\n",
    "        plt.xlabel('True label')\n",
    "        plt.ylabel('Predicted label')\n",
    "        \n"
   ]
  },
  {
   "cell_type": "code",
   "execution_count": null,
   "metadata": {},
   "outputs": [],
   "source": [
    "# Compute confusion matrix\n",
    "cnf_matrix = confusion_matrix(y_test.argmax(axis = 1), y_pred.argmax(axis = 1))\n",
    "np.set_printoptions(precision = 2)\n",
    "\n",
    "# Plot non-normalized confusion matrix\n",
    "plt.figure(figsize = (10, 10))\n",
    "plot_confusion_matrix(cnf_matrix, classes = ['N', 'L', 'R', 'A', 'V', '/'], normalize = True, title = 'Confusion matrix, with normalization')\n",
    "plt.show()"
   ]
  },
  {
   "cell_type": "code",
   "execution_count": null,
   "metadata": {},
   "outputs": [],
   "source": []
  }
 ],
 "metadata": {
  "kernelspec": {
   "display_name": "Python 3",
   "language": "python",
   "name": "python3"
  },
  "language_info": {
   "codemirror_mode": {
    "name": "ipython",
    "version": 3
   },
   "file_extension": ".py",
   "mimetype": "text/x-python",
   "name": "python",
   "nbconvert_exporter": "python",
   "pygments_lexer": "ipython3",
   "version": "3.8.3"
  }
 },
 "nbformat": 4,
 "nbformat_minor": 4
}
